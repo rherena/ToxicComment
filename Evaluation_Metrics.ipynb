{
 "cells": [
  {
   "cell_type": "code",
   "execution_count": 3,
   "metadata": {},
   "outputs": [
    {
     "name": "stderr",
     "output_type": "stream",
     "text": [
      "Using TensorFlow backend.\n"
     ]
    }
   ],
   "source": [
    "### The purpose of this section is to evaluate model performance on trained models \n",
    "## first we will generate Y predictions using all trained models \n",
    "# including all NN iterations. \n",
    "import numpy as np\n",
    "import pandas as pd\n",
    "import csv\n",
    "from scipy.sparse import save_npz, load_npz\n",
    "from sklearn.linear_model import LogisticRegression\n",
    "from sklearn.externals import joblib\n",
    "from keras.models import Model\n",
    "from keras.layers import Input, Dense, Embedding, SpatialDropout1D, concatenate\n",
    "from keras.layers import GRU, Bidirectional, GlobalAveragePooling1D, GlobalMaxPooling1D\n",
    "from keras.preprocessing import text, sequence\n",
    "from sklearn.metrics import roc_auc_score, accuracy_score, precision_score, recall_score, \\\n",
    "    f1_score, log_loss, hamming_loss\n",
    "from sklearn.metrics import confusion_matrix\n",
    "import matplotlib.pyplot as plt\n",
    "import itertools"
   ]
  },
  {
   "cell_type": "code",
   "execution_count": 4,
   "metadata": {},
   "outputs": [
    {
     "ename": "FileNotFoundError",
     "evalue": "[Errno 2] No such file or directory: 'inputs/train_cv_sparse.npz'",
     "output_type": "error",
     "traceback": [
      "\u001b[1;31m---------------------------------------------------------------------------\u001b[0m",
      "\u001b[1;31mFileNotFoundError\u001b[0m                         Traceback (most recent call last)",
      "\u001b[1;32m<ipython-input-4-e6fed0ce7d63>\u001b[0m in \u001b[0;36m<module>\u001b[1;34m()\u001b[0m\n\u001b[0;32m      1\u001b[0m \u001b[1;31m# Load Data\u001b[0m\u001b[1;33m\u001b[0m\u001b[1;33m\u001b[0m\u001b[0m\n\u001b[0;32m      2\u001b[0m \u001b[1;33m\u001b[0m\u001b[0m\n\u001b[1;32m----> 3\u001b[1;33m \u001b[0mtrain_features\u001b[0m \u001b[1;33m=\u001b[0m \u001b[0mload_npz\u001b[0m\u001b[1;33m(\u001b[0m\u001b[1;34m'inputs/train_cv_sparse.npz'\u001b[0m\u001b[1;33m)\u001b[0m\u001b[1;33m\u001b[0m\u001b[0m\n\u001b[0m\u001b[0;32m      4\u001b[0m \u001b[0mtest_features\u001b[0m \u001b[1;33m=\u001b[0m \u001b[0mload_npz\u001b[0m\u001b[1;33m(\u001b[0m\u001b[1;34m'inputs/val_sparse.npz'\u001b[0m\u001b[1;33m)\u001b[0m\u001b[1;33m\u001b[0m\u001b[0m\n\u001b[0;32m      5\u001b[0m \u001b[1;33m\u001b[0m\u001b[0m\n",
      "\u001b[1;32me:\\david\\python\\lib\\site-packages\\scipy\\sparse\\_matrix_io.py\u001b[0m in \u001b[0;36mload_npz\u001b[1;34m(file)\u001b[0m\n\u001b[0;32m    128\u001b[0m     \"\"\"\n\u001b[0;32m    129\u001b[0m \u001b[1;33m\u001b[0m\u001b[0m\n\u001b[1;32m--> 130\u001b[1;33m     \u001b[1;32mwith\u001b[0m \u001b[0mnp\u001b[0m\u001b[1;33m.\u001b[0m\u001b[0mload\u001b[0m\u001b[1;33m(\u001b[0m\u001b[0mfile\u001b[0m\u001b[1;33m,\u001b[0m \u001b[1;33m**\u001b[0m\u001b[0mPICKLE_KWARGS\u001b[0m\u001b[1;33m)\u001b[0m \u001b[1;32mas\u001b[0m \u001b[0mloaded\u001b[0m\u001b[1;33m:\u001b[0m\u001b[1;33m\u001b[0m\u001b[0m\n\u001b[0m\u001b[0;32m    131\u001b[0m         \u001b[1;32mtry\u001b[0m\u001b[1;33m:\u001b[0m\u001b[1;33m\u001b[0m\u001b[0m\n\u001b[0;32m    132\u001b[0m             \u001b[0mmatrix_format\u001b[0m \u001b[1;33m=\u001b[0m \u001b[0mloaded\u001b[0m\u001b[1;33m[\u001b[0m\u001b[1;34m'format'\u001b[0m\u001b[1;33m]\u001b[0m\u001b[1;33m\u001b[0m\u001b[0m\n",
      "\u001b[1;32me:\\david\\python\\lib\\site-packages\\numpy\\lib\\npyio.py\u001b[0m in \u001b[0;36mload\u001b[1;34m(file, mmap_mode, allow_pickle, fix_imports, encoding)\u001b[0m\n\u001b[0;32m    370\u001b[0m     \u001b[0mown_fid\u001b[0m \u001b[1;33m=\u001b[0m \u001b[1;32mFalse\u001b[0m\u001b[1;33m\u001b[0m\u001b[0m\n\u001b[0;32m    371\u001b[0m     \u001b[1;32mif\u001b[0m \u001b[0misinstance\u001b[0m\u001b[1;33m(\u001b[0m\u001b[0mfile\u001b[0m\u001b[1;33m,\u001b[0m \u001b[0mbasestring\u001b[0m\u001b[1;33m)\u001b[0m\u001b[1;33m:\u001b[0m\u001b[1;33m\u001b[0m\u001b[0m\n\u001b[1;32m--> 372\u001b[1;33m         \u001b[0mfid\u001b[0m \u001b[1;33m=\u001b[0m \u001b[0mopen\u001b[0m\u001b[1;33m(\u001b[0m\u001b[0mfile\u001b[0m\u001b[1;33m,\u001b[0m \u001b[1;34m\"rb\"\u001b[0m\u001b[1;33m)\u001b[0m\u001b[1;33m\u001b[0m\u001b[0m\n\u001b[0m\u001b[0;32m    373\u001b[0m         \u001b[0mown_fid\u001b[0m \u001b[1;33m=\u001b[0m \u001b[1;32mTrue\u001b[0m\u001b[1;33m\u001b[0m\u001b[0m\n\u001b[0;32m    374\u001b[0m     \u001b[1;32melif\u001b[0m \u001b[0mis_pathlib_path\u001b[0m\u001b[1;33m(\u001b[0m\u001b[0mfile\u001b[0m\u001b[1;33m)\u001b[0m\u001b[1;33m:\u001b[0m\u001b[1;33m\u001b[0m\u001b[0m\n",
      "\u001b[1;31mFileNotFoundError\u001b[0m: [Errno 2] No such file or directory: 'inputs/train_cv_sparse.npz'"
     ]
    }
   ],
   "source": [
    "# Load Data\n",
    "\n",
    "train_features = load_npz('inputs/train_cv_sparse.npz')\n",
    "test_features = load_npz('inputs/val_sparse.npz')\n",
    "\n",
    "train_y = pd.read_csv('inputs/train_cv.csv')\n",
    "test_y = pd.read_csv('inputs/val_data.csv')"
   ]
  },
  {
   "cell_type": "code",
   "execution_count": null,
   "metadata": {},
   "outputs": [],
   "source": [
    "# Prediction using Log_Reg Models\n",
    "class_names = ['toxic', 'severe_toxic', 'obscene', 'threat', 'insult', 'identity_hate']\n",
    "\n",
    "\n",
    "for class_name in class_names:\n",
    "    filename = 'Model_W/'+class_name+'_LR.sav'\n",
    "    loaded_model = joblib.load(filename)\n",
    "    mp_colname = class_name+'LR_P'\n",
    "    train_y[mp_colname] = loaded_model.predict(train_features)\n",
    "    test_y[mp_colname] = loaded_model.predict(test_features)"
   ]
  },
  {
   "cell_type": "code",
   "execution_count": null,
   "metadata": {},
   "outputs": [],
   "source": [
    "train_y.columns"
   ]
  },
  {
   "cell_type": "code",
   "execution_count": 184,
   "metadata": {},
   "outputs": [],
   "source": [
    "Metrics_Names = ['roc_auc','Accuracy', 'Precision', 'recall', 'F1', 'hamming_loss']\n",
    "rows = ['train_LR', 'test_LR','GRU_Train','GRU_Test']\n",
    "Metrics = pd.DataFrame(data=0.00,columns=Metrics_Names,index=rows)\n",
    "Metrics.head()\n",
    "\n",
    "\n",
    "Metrics.loc['train_LR','roc_auc'] = roc_auc_score(train_y.loc[:,'toxic':'identity_hate'], \n",
    "                                    train_y.loc[:,'toxicLR_P':'identity_hateLR_P'])\n",
    "\n",
    "Metrics.loc['test_LR','roc_auc'] = roc_auc_score(test_y.loc[:,'toxic':'identity_hate'], \n",
    "                                    test_y.loc[:,'toxicLR_P':'identity_hateLR_P'])\n",
    "\n",
    "\n",
    "Metrics.loc['train_LR','Accuracy'] = accuracy_score(train_y.loc[:,'toxic':'identity_hate'], \n",
    "                                    train_y.loc[:,'toxicLR_P':'identity_hateLR_P'])\n",
    "\n",
    "Metrics.loc['test_LR','Accuracy'] = accuracy_score(test_y.loc[:,'toxic':'identity_hate'], \n",
    "                                    test_y.loc[:,'toxicLR_P':'identity_hateLR_P'])\n",
    "\n",
    "\n",
    "Metrics.loc['train_LR','Precision'] = precision_score(train_y.loc[:,'toxic':'identity_hate'], \n",
    "                                    train_y.loc[:,'toxicLR_P':'identity_hateLR_P'],\n",
    "                                                      average='macro')\n",
    "\n",
    "Metrics.loc['test_LR','Precision'] = precision_score(test_y.loc[:,'toxic':'identity_hate'], \n",
    "                                    test_y.loc[:,'toxicLR_P':'identity_hateLR_P'],\n",
    "                                    average='macro')\n",
    "\n",
    "Metrics.loc['train_LR','recall'] = recall_score(train_y.loc[:,'toxic':'identity_hate'], \n",
    "                                    train_y.loc[:,'toxicLR_P':'identity_hateLR_P'],\n",
    "                                                  average='macro')\n",
    "\n",
    "Metrics.loc['test_LR','recall'] = recall_score(test_y.loc[:,'toxic':'identity_hate'], \n",
    "                                    test_y.loc[:,'toxicLR_P':'identity_hateLR_P'],\n",
    "                                                 average='macro')\n",
    "\n",
    "Metrics.loc['train_LR','F1'] = f1_score(train_y.loc[:,'toxic':'identity_hate'], \n",
    "                                    train_y.loc[:,'toxicLR_P':'identity_hateLR_P'],\n",
    "                                                  average='macro')\n",
    "\n",
    "Metrics.loc['test_LR','F1'] = f1_score(test_y.loc[:,'toxic':'identity_hate'], \n",
    "                                    test_y.loc[:,'toxicLR_P':'identity_hateLR_P'],\n",
    "                                                 average='macro')\n",
    "\n",
    "Metrics.loc['train_LR','hamming_loss'] = hamming_loss(train_y.loc[:,'toxic':'identity_hate'], \n",
    "                                    train_y.loc[:,'toxicLR_P':'identity_hateLR_P'])\n",
    "\n",
    "Metrics.loc['test_LR','hamming_loss'] = hamming_loss(test_y.loc[:,'toxic':'identity_hate'], \n",
    "                                    test_y.loc[:,'toxicLR_P':'identity_hateLR_P'])"
   ]
  },
  {
   "cell_type": "code",
   "execution_count": 185,
   "metadata": {},
   "outputs": [
    {
     "data": {
      "text/html": [
       "<div>\n",
       "<table border=\"1\" class=\"dataframe\">\n",
       "  <thead>\n",
       "    <tr style=\"text-align: right;\">\n",
       "      <th></th>\n",
       "      <th>roc_auc</th>\n",
       "      <th>Accuracy</th>\n",
       "      <th>Precision</th>\n",
       "      <th>recall</th>\n",
       "      <th>F1</th>\n",
       "      <th>hamming_loss</th>\n",
       "    </tr>\n",
       "  </thead>\n",
       "  <tbody>\n",
       "    <tr>\n",
       "      <th>train_LR</th>\n",
       "      <td>0.911366</td>\n",
       "      <td>0.962716</td>\n",
       "      <td>0.948475</td>\n",
       "      <td>0.824493</td>\n",
       "      <td>0.881685</td>\n",
       "      <td>0.007197</td>\n",
       "    </tr>\n",
       "    <tr>\n",
       "      <th>test_LR</th>\n",
       "      <td>0.761067</td>\n",
       "      <td>0.915779</td>\n",
       "      <td>0.718867</td>\n",
       "      <td>0.528833</td>\n",
       "      <td>0.601514</td>\n",
       "      <td>0.018946</td>\n",
       "    </tr>\n",
       "    <tr>\n",
       "      <th>GRU_Train</th>\n",
       "      <td>0.000000</td>\n",
       "      <td>0.000000</td>\n",
       "      <td>0.000000</td>\n",
       "      <td>0.000000</td>\n",
       "      <td>0.000000</td>\n",
       "      <td>0.000000</td>\n",
       "    </tr>\n",
       "    <tr>\n",
       "      <th>GRU_Test</th>\n",
       "      <td>0.000000</td>\n",
       "      <td>0.000000</td>\n",
       "      <td>0.000000</td>\n",
       "      <td>0.000000</td>\n",
       "      <td>0.000000</td>\n",
       "      <td>0.000000</td>\n",
       "    </tr>\n",
       "  </tbody>\n",
       "</table>\n",
       "</div>"
      ],
      "text/plain": [
       "<div>\n",
       "<table border=\"1\" class=\"dataframe\">\n",
       "  <thead>\n",
       "    <tr style=\"text-align: right;\">\n",
       "      <th></th>\n",
       "      <th>roc_auc</th>\n",
       "      <th>Accuracy</th>\n",
       "      <th>Precision</th>\n",
       "      <th>recall</th>\n",
       "      <th>F1</th>\n",
       "      <th>hamming_loss</th>\n",
       "    </tr>\n",
       "  </thead>\n",
       "  <tbody>\n",
       "    <tr>\n",
       "      <th>train_LR</th>\n",
       "      <td>0.911366</td>\n",
       "      <td>0.962716</td>\n",
       "      <td>0.948475</td>\n",
       "      <td>0.824493</td>\n",
       "      <td>0.881685</td>\n",
       "      <td>0.007197</td>\n",
       "    </tr>\n",
       "    <tr>\n",
       "      <th>test_LR</th>\n",
       "      <td>0.761067</td>\n",
       "      <td>0.915779</td>\n",
       "      <td>0.718867</td>\n",
       "      <td>0.528833</td>\n",
       "      <td>0.601514</td>\n",
       "      <td>0.018946</td>\n",
       "    </tr>\n",
       "    <tr>\n",
       "      <th>GRU_Train</th>\n",
       "      <td>0.000000</td>\n",
       "      <td>0.000000</td>\n",
       "      <td>0.000000</td>\n",
       "      <td>0.000000</td>\n",
       "      <td>0.000000</td>\n",
       "      <td>0.000000</td>\n",
       "    </tr>\n",
       "    <tr>\n",
       "      <th>GRU_Test</th>\n",
       "      <td>0.000000</td>\n",
       "      <td>0.000000</td>\n",
       "      <td>0.000000</td>\n",
       "      <td>0.000000</td>\n",
       "      <td>0.000000</td>\n",
       "      <td>0.000000</td>\n",
       "    </tr>\n",
       "  </tbody>\n",
       "</table>\n",
       "</div>"
      ]
     },
     "execution_count": 185,
     "metadata": {},
     "output_type": "execute_result"
    }
   ],
   "source": [
    "Metrics"
   ]
  },
  {
   "cell_type": "code",
   "execution_count": 84,
   "metadata": {
    "collapsed": true
   },
   "outputs": [
    {
     "name": "stdout",
     "output_type": "stream",
     "text": [
      "-0.00583849458846\n"
     ]
    }
   ],
   "source": [
    "# Load data for NN predictions\n",
    "\n",
    "X_train = train_y[\"comment_text\"].fillna(\"fillna\").values\n",
    "y_train = train_y[[\"toxic\", \"severe_toxic\", \"obscene\", \"threat\", \"insult\", \"identity_hate\"]].values\n",
    "X_test = test_y[\"comment_text\"].fillna(\"fillna\").values\n",
    "\n",
    "max_features = 30000\n",
    "maxlen = 150\n",
    "embed_size = 300\n",
    "\n",
    "tokenizer = text.Tokenizer(num_words=max_features)\n",
    "tokenizer.fit_on_texts(list(X_train) + list(X_test))\n",
    "X_train = tokenizer.texts_to_sequences(X_train)\n",
    "X_test = tokenizer.texts_to_sequences(X_test)\n",
    "x_train = sequence.pad_sequences(X_train, maxlen=maxlen)\n",
    "x_test = sequence.pad_sequences(X_test, maxlen=maxlen)\n",
    "\n",
    "embedding_path = 'inputs/glove.840B.300d.txt'\n",
    "embeddings = pd.read_table(embedding_path, sep=\" \", index_col=0, header=None,\n",
    "                           quoting=csv.QUOTE_NONE)\n",
    "emb_mean, emb_std = np.mean(embeddings.values), np.std(embeddings.values)\n",
    "\n",
    "print(emb_mean)"
   ]
  },
  {
   "cell_type": "code",
   "execution_count": 85,
   "metadata": {},
   "outputs": [
    {
     "name": "stdout",
     "output_type": "stream",
     "text": [
      "precisely\n",
      "terribly\n",
      "calculation\n",
      "closet\n",
      "parapsychology\n",
      "broadcaster\n",
      "tub\n",
      "moratorium\n",
      "topped\n"
     ]
    }
   ],
   "source": [
    "from datetime import datetime\n",
    "now = datetime.now()\n",
    "\n",
    "word_index = tokenizer.word_index\n",
    "nb_words = min(max_features, len(word_index))\n",
    "embedding_matrix = np.zeros((nb_words, embed_size))\n",
    "\n",
    "p = 0\n",
    "for word, i in word_index.items():\n",
    "    if i >= max_features: continue\n",
    "    embedding_vector = None\n",
    "    if (word in embeddings.index) == True: embedding_vector = embeddings.loc[word]\n",
    "    if embedding_vector is not None: embedding_matrix[i] = embedding_vector.as_matrix()\n",
    "    p = p + 1\n",
    "    if p % 3000 == 0:\n",
    "        print(word)"
   ]
  },
  {
   "cell_type": "code",
   "execution_count": 130,
   "metadata": {},
   "outputs": [
    {
     "name": "stdout",
     "output_type": "stream",
     "text": [
      "__________________________________________________________________________________________________\n",
      "Layer (type)                    Output Shape         Param #     Connected to                     \n",
      "==================================================================================================\n",
      "input_5 (InputLayer)            (None, 150)          0                                            \n",
      "__________________________________________________________________________________________________\n",
      "embedding_5 (Embedding)         (None, 150, 300)     9000000     input_5[0][0]                    \n",
      "__________________________________________________________________________________________________\n",
      "spatial_dropout1d_5 (SpatialDro (None, 150, 300)     0           embedding_5[0][0]                \n",
      "__________________________________________________________________________________________________\n",
      "bidirectional_5 (Bidirectional) (None, 150, 160)     182880      spatial_dropout1d_5[0][0]        \n",
      "__________________________________________________________________________________________________\n",
      "global_average_pooling1d_5 (Glo (None, 160)          0           bidirectional_5[0][0]            \n",
      "__________________________________________________________________________________________________\n",
      "global_max_pooling1d_5 (GlobalM (None, 160)          0           bidirectional_5[0][0]            \n",
      "__________________________________________________________________________________________________\n",
      "concatenate_5 (Concatenate)     (None, 320)          0           global_average_pooling1d_5[0][0] \n",
      "                                                                 global_max_pooling1d_5[0][0]     \n",
      "__________________________________________________________________________________________________\n",
      "dense_5 (Dense)                 (None, 6)            1926        concatenate_5[0][0]              \n",
      "==================================================================================================\n",
      "Total params: 9,184,806\n",
      "Trainable params: 9,184,806\n",
      "Non-trainable params: 0\n",
      "__________________________________________________________________________________________________\n"
     ]
    }
   ],
   "source": [
    "# Define Models and load weights\n",
    "\n",
    "def get_model():\n",
    "    inp = Input(shape=(maxlen, ))\n",
    "    x = Embedding(max_features, embed_size, weights=[embedding_matrix])(inp)\n",
    "    x = SpatialDropout1D(0.2)(x)\n",
    "    x = Bidirectional(GRU(60, return_sequences=True))(x)\n",
    "    avg_pool = GlobalAveragePooling1D()(x)\n",
    "    max_pool = GlobalMaxPooling1D()(x)\n",
    "    conc = concatenate([avg_pool, max_pool])\n",
    "    outp = Dense(6, activation=\"sigmoid\")(conc)\n",
    "    \n",
    "    model = Model(inputs=inp, outputs=outp)\n",
    "    model.compile(loss='binary_crossentropy',\n",
    "                  optimizer='adam',\n",
    "                  metrics=['accuracy'])\n",
    "    model.summary()\n",
    "\n",
    "    return model\n",
    "\n",
    "model = get_model()\n",
    "file_path = \"Model_W/glove_60_D2_LR001_F30.hdf5\"\n",
    "model.load_weights(filepath=file_path)"
   ]
  },
  {
   "cell_type": "code",
   "execution_count": 131,
   "metadata": {
    "collapsed": true
   },
   "outputs": [
    {
     "name": "stdout",
     "output_type": "stream",
     "text": [
      "151592/151592 [==============================] - 539s 4ms/step\n",
      "7979/7979 [==============================] - 26s 3ms/step\n"
     ]
    }
   ],
   "source": [
    "# Predictions using NN to get log loss\n",
    "\n",
    "train_score = model.predict(x_train, verbose=1, batch_size=1000)\n",
    "test_score = model.predict(x_test, verbose=1, batch_size=1000)"
   ]
  },
  {
   "cell_type": "code",
   "execution_count": 186,
   "metadata": {},
   "outputs": [],
   "source": [
    "p = 0\n",
    "for class_name in class_names:\n",
    "    mp_colname = class_name+'RNN_P'\n",
    "    train_y[mp_colname] = train_score[:,p]\n",
    "    test_y[mp_colname] = test_score[:,p]\n",
    "    p+=1"
   ]
  },
  {
   "cell_type": "code",
   "execution_count": 137,
   "metadata": {},
   "outputs": [
    {
     "data": {
      "text/plain": [
       "Index(['Unnamed: 0', 'id', 'comment_text', 'toxic', 'severe_toxic', 'obscene',\n",
       "       'threat', 'insult', 'identity_hate', 'toxicLR_P', 'severe_toxicLR_P',\n",
       "       'obsceneLR_P', 'threatLR_P', 'insultLR_P', 'identity_hateLR_P',\n",
       "       'toxicRNN_P', 'severe_toxicRNN_P', 'obsceneRNN_P', 'threatRNN_P',\n",
       "       'insultRNN_P', 'identity_hateRNN_P'],\n",
       "      dtype='object')"
      ]
     },
     "execution_count": 137,
     "metadata": {},
     "output_type": "execute_result"
    }
   ],
   "source": [
    "train_y.columns"
   ]
  },
  {
   "cell_type": "code",
   "execution_count": 179,
   "metadata": {},
   "outputs": [
    {
     "name": "stdout",
     "output_type": "stream",
     "text": [
      "1\n",
      "0\n"
     ]
    },
    {
     "data": {
      "text/plain": [
       "0    0\n",
       "1    0\n",
       "2    0\n",
       "3    1\n",
       "4    1\n",
       "Name: toxicLR_P, dtype: int64"
      ]
     },
     "execution_count": 179,
     "metadata": {},
     "output_type": "execute_result"
    }
   ],
   "source": [
    "print(np.max(train_y['toxicLR_P']))\n",
    "print(np.min(train_y['toxicLR_P']))\n",
    "\n",
    "train_y['toxicLR_P'].head()"
   ]
  },
  {
   "cell_type": "code",
   "execution_count": 108,
   "metadata": {},
   "outputs": [
    {
     "data": {
      "text/plain": [
       "Index(['Unnamed: 0', 'id', 'comment_text', 'toxic', 'severe_toxic', 'obscene',\n",
       "       'threat', 'insult', 'identity_hate', 'toxicLR_P', 'severe_toxicLR_P',\n",
       "       'obsceneLR_P', 'threatLR_P', 'insultLR_P', 'identity_hateLR_P',\n",
       "       'toxicRNN_P', 'severe_toxicRNN_P', 'obsceneRNN_P', 'threatRNN_P',\n",
       "       'insultRNN_P', 'identity_hateRNN_P'],\n",
       "      dtype='object')"
      ]
     },
     "execution_count": 108,
     "metadata": {},
     "output_type": "execute_result"
    }
   ],
   "source": [
    "train_y.columns"
   ]
  },
  {
   "cell_type": "code",
   "execution_count": 187,
   "metadata": {},
   "outputs": [],
   "source": [
    "Metrics.loc['GRU_Train','roc_auc'] = roc_auc_score(train_y.loc[:,'toxic':'identity_hate'], \n",
    "                                    train_y.loc[:,'toxicRNN_P':'identity_hateRNN_P'])\n",
    "\n",
    "Metrics.loc['GRU_Test','roc_auc'] = roc_auc_score(test_y.loc[:,'toxic':'identity_hate'], \n",
    "                                    test_y.loc[:,'severe_toxicRNN_P':'identity_hateRNN_P'])\n",
    "\n",
    "Metrics.loc['GRU_Train','Accuracy'] = accuracy_score(train_y.loc[:,'toxic':'identity_hate'], \n",
    "                                       train_y.loc[:,'toxicRNN_P':'identity_hateRNN_P'].round())\n",
    "\n",
    "Metrics.loc['GRU_Test','Accuracy'] = accuracy_score(test_y.loc[:,'toxic':'identity_hate'], \n",
    "                                    test_y.loc[:,'toxicRNN_P':'identity_hateRNN_P'].round())\n",
    "\n",
    "\n",
    "Metrics.loc['GRU_Train','Precision'] = precision_score(train_y.loc[:,'toxic':'identity_hate'], \n",
    "                                    train_y.loc[:,'toxicRNN_P':'identity_hateRNN_P'].round(),\n",
    "                                                      average='macro')\n",
    "\n",
    "Metrics.loc['GRU_Test','Precision'] = precision_score(test_y.loc[:,'toxic':'identity_hate'], \n",
    "                                    test_y.loc[:,'toxicRNN_P':'identity_hateRNN_P'].round(),\n",
    "                                    average='macro')\n",
    "\n",
    "Metrics.loc['GRU_Train','recall'] = recall_score(train_y.loc[:,'toxic':'identity_hate'], \n",
    "                                    train_y.loc[:,'toxicRNN_P':'identity_hateRNN_P'].round(),\n",
    "                                                  average='macro')\n",
    "\n",
    "Metrics.loc['GRU_Test','recall'] = recall_score(test_y.loc[:,'toxic':'identity_hate'], \n",
    "                                    test_y.loc[:,'toxicRNN_P':'identity_hateRNN_P'].round(),\n",
    "                                                 average='macro')\n",
    "\n",
    "Metrics.loc['GRU_Train','F1'] = f1_score(train_y.loc[:,'toxic':'identity_hate'], \n",
    "                                    train_y.loc[:,'toxicRNN_P':'identity_hateRNN_P'].round(),\n",
    "                                                  average='macro')\n",
    "\n",
    "Metrics.loc['GRU_Test','F1'] = f1_score(test_y.loc[:,'toxic':'identity_hate'], \n",
    "                                    test_y.loc[:,'toxicRNN_P':'identity_hateRNN_P'].round(),\n",
    "                                                 average='macro')\n",
    "\n",
    "Metrics.loc['GRU_Train','hamming_loss'] = hamming_loss(train_y.loc[:,'toxic':'identity_hate'], \n",
    "                                    train_y.loc[:,'toxicRNN_P':'identity_hateRNN_P'].round())\n",
    "\n",
    "Metrics.loc['GRU_Test','hamming_loss'] = hamming_loss(test_y.loc[:,'toxic':'identity_hate'], \n",
    "                                    test_y.loc[:,'toxicRNN_P':'identity_hateRNN_P'].round())"
   ]
  },
  {
   "cell_type": "code",
   "execution_count": 189,
   "metadata": {},
   "outputs": [
    {
     "data": {
      "text/html": [
       "<div>\n",
       "<table border=\"1\" class=\"dataframe\">\n",
       "  <thead>\n",
       "    <tr style=\"text-align: right;\">\n",
       "      <th></th>\n",
       "      <th>roc_auc</th>\n",
       "      <th>Accuracy</th>\n",
       "      <th>Precision</th>\n",
       "      <th>recall</th>\n",
       "      <th>F1</th>\n",
       "      <th>hamming_loss</th>\n",
       "    </tr>\n",
       "  </thead>\n",
       "  <tbody>\n",
       "    <tr>\n",
       "      <th>train_LR</th>\n",
       "      <td>0.911366</td>\n",
       "      <td>0.962716</td>\n",
       "      <td>0.948475</td>\n",
       "      <td>0.824493</td>\n",
       "      <td>0.881685</td>\n",
       "      <td>0.007197</td>\n",
       "    </tr>\n",
       "    <tr>\n",
       "      <th>test_LR</th>\n",
       "      <td>0.761067</td>\n",
       "      <td>0.915779</td>\n",
       "      <td>0.718867</td>\n",
       "      <td>0.528833</td>\n",
       "      <td>0.601514</td>\n",
       "      <td>0.018946</td>\n",
       "    </tr>\n",
       "    <tr>\n",
       "      <th>GRU_Train</th>\n",
       "      <td>0.993706</td>\n",
       "      <td>0.940393</td>\n",
       "      <td>0.792810</td>\n",
       "      <td>0.604369</td>\n",
       "      <td>0.677614</td>\n",
       "      <td>0.012254</td>\n",
       "    </tr>\n",
       "    <tr>\n",
       "      <th>GRU_Test</th>\n",
       "      <td>0.961227</td>\n",
       "      <td>0.923048</td>\n",
       "      <td>0.740890</td>\n",
       "      <td>0.521261</td>\n",
       "      <td>0.596676</td>\n",
       "      <td>0.017087</td>\n",
       "    </tr>\n",
       "  </tbody>\n",
       "</table>\n",
       "</div>"
      ],
      "text/plain": [
       "<div>\n",
       "<table border=\"1\" class=\"dataframe\">\n",
       "  <thead>\n",
       "    <tr style=\"text-align: right;\">\n",
       "      <th></th>\n",
       "      <th>roc_auc</th>\n",
       "      <th>Accuracy</th>\n",
       "      <th>Precision</th>\n",
       "      <th>recall</th>\n",
       "      <th>F1</th>\n",
       "      <th>hamming_loss</th>\n",
       "    </tr>\n",
       "  </thead>\n",
       "  <tbody>\n",
       "    <tr>\n",
       "      <th>train_LR</th>\n",
       "      <td>0.911366</td>\n",
       "      <td>0.962716</td>\n",
       "      <td>0.948475</td>\n",
       "      <td>0.824493</td>\n",
       "      <td>0.881685</td>\n",
       "      <td>0.007197</td>\n",
       "    </tr>\n",
       "    <tr>\n",
       "      <th>test_LR</th>\n",
       "      <td>0.761067</td>\n",
       "      <td>0.915779</td>\n",
       "      <td>0.718867</td>\n",
       "      <td>0.528833</td>\n",
       "      <td>0.601514</td>\n",
       "      <td>0.018946</td>\n",
       "    </tr>\n",
       "    <tr>\n",
       "      <th>GRU_Train</th>\n",
       "      <td>0.993706</td>\n",
       "      <td>0.940393</td>\n",
       "      <td>0.792810</td>\n",
       "      <td>0.604369</td>\n",
       "      <td>0.677614</td>\n",
       "      <td>0.012254</td>\n",
       "    </tr>\n",
       "    <tr>\n",
       "      <th>GRU_Test</th>\n",
       "      <td>0.961227</td>\n",
       "      <td>0.923048</td>\n",
       "      <td>0.740890</td>\n",
       "      <td>0.521261</td>\n",
       "      <td>0.596676</td>\n",
       "      <td>0.017087</td>\n",
       "    </tr>\n",
       "  </tbody>\n",
       "</table>\n",
       "</div>"
      ]
     },
     "execution_count": 189,
     "metadata": {},
     "output_type": "execute_result"
    }
   ],
   "source": [
    "Metrics.to_csv(\"Metrics.csv\", index=False)\n",
    "\n",
    "Metrics"
   ]
  },
  {
   "cell_type": "code",
   "execution_count": 192,
   "metadata": {},
   "outputs": [],
   "source": [
    "test_y.to_csv('Prediction_Values/test_y.csv')\n",
    "train_y.to_csv('Prediction_Values/train_y.csv')"
   ]
  },
  {
   "cell_type": "code",
   "execution_count": 2,
   "metadata": {},
   "outputs": [],
   "source": [
    "train_y = pd.read_csv('Prediction_Values/test_y.csv')\n",
    "test_y = pd.read_csv('Prediction_Values/train_y.csv')"
   ]
  },
  {
   "cell_type": "code",
   "execution_count": 19,
   "metadata": {},
   "outputs": [
    {
     "name": "stdout",
     "output_type": "stream",
     "text": [
      "[[143043   1074]\n",
      " [  1758   5717]]\n",
      "[[ 0.99  0.01]\n",
      " [ 0.24  0.76]]\n"
     ]
    }
   ],
   "source": [
    "# Compute confusion matrix\n",
    "class_names = ['toxic', 'severe_toxic', 'obscene', 'threat', 'insult', 'identity_hate']\n",
    "\n",
    "\n",
    "\n",
    "cnf_matrix = confusion_matrix(test_y.loc[:,'insult'], \n",
    "                              test_y.loc[:,'insultRNN_P'].round())\n",
    "np.set_printoptions(precision=2)\n",
    "\n",
    "print(cnf_matrix)\n",
    "\n",
    "cm = cnf_matrix.astype('float') / cnf_matrix.sum(axis=1)[:, np.newaxis]\n",
    "\n",
    "print(cm)"
   ]
  },
  {
   "cell_type": "code",
   "execution_count": null,
   "metadata": {},
   "outputs": [],
   "source": []
  }
 ],
 "metadata": {
  "kernelspec": {
   "display_name": "Python 3",
   "language": "python",
   "name": "python3"
  },
  "language_info": {
   "codemirror_mode": {
    "name": "ipython",
    "version": 3
   },
   "file_extension": ".py",
   "mimetype": "text/x-python",
   "name": "python",
   "nbconvert_exporter": "python",
   "pygments_lexer": "ipython3",
   "version": "3.6.2"
  }
 },
 "nbformat": 4,
 "nbformat_minor": 1
}
